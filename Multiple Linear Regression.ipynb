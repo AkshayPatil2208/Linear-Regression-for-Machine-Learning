{
 "cells": [
  {
   "cell_type": "code",
   "execution_count": 5,
   "metadata": {},
   "outputs": [
    {
     "data": {
      "text/html": [
       "<div>\n",
       "<style scoped>\n",
       "    .dataframe tbody tr th:only-of-type {\n",
       "        vertical-align: middle;\n",
       "    }\n",
       "\n",
       "    .dataframe tbody tr th {\n",
       "        vertical-align: top;\n",
       "    }\n",
       "\n",
       "    .dataframe thead th {\n",
       "        text-align: right;\n",
       "    }\n",
       "</style>\n",
       "<table border=\"1\" class=\"dataframe\">\n",
       "  <thead>\n",
       "    <tr style=\"text-align: right;\">\n",
       "      <th></th>\n",
       "      <th>selling_price</th>\n",
       "      <th>km_driven</th>\n",
       "      <th>car_age</th>\n",
       "    </tr>\n",
       "  </thead>\n",
       "  <tbody>\n",
       "    <tr>\n",
       "      <th>0</th>\n",
       "      <td>450000</td>\n",
       "      <td>145500</td>\n",
       "      <td>7</td>\n",
       "    </tr>\n",
       "    <tr>\n",
       "      <th>1</th>\n",
       "      <td>700000</td>\n",
       "      <td>50000</td>\n",
       "      <td>3</td>\n",
       "    </tr>\n",
       "    <tr>\n",
       "      <th>2</th>\n",
       "      <td>550000</td>\n",
       "      <td>70000</td>\n",
       "      <td>8</td>\n",
       "    </tr>\n",
       "    <tr>\n",
       "      <th>3</th>\n",
       "      <td>500000</td>\n",
       "      <td>120000</td>\n",
       "      <td>7</td>\n",
       "    </tr>\n",
       "    <tr>\n",
       "      <th>4</th>\n",
       "      <td>360000</td>\n",
       "      <td>158000</td>\n",
       "      <td>9</td>\n",
       "    </tr>\n",
       "  </tbody>\n",
       "</table>\n",
       "</div>"
      ],
      "text/plain": [
       "   selling_price  km_driven  car_age\n",
       "0         450000     145500        7\n",
       "1         700000      50000        3\n",
       "2         550000      70000        8\n",
       "3         500000     120000        7\n",
       "4         360000     158000        9"
      ]
     },
     "execution_count": 5,
     "metadata": {},
     "output_type": "execute_result"
    }
   ],
   "source": [
    "import pandas as pd\n",
    "df=pd.read_csv('cmlr.csv')\n",
    "df.head()"
   ]
  },
  {
   "cell_type": "code",
   "execution_count": 6,
   "metadata": {},
   "outputs": [
    {
     "data": {
      "text/plain": [
       "(129, 3)"
      ]
     },
     "execution_count": 6,
     "metadata": {},
     "output_type": "execute_result"
    }
   ],
   "source": [
    "df.shape"
   ]
  },
  {
   "cell_type": "code",
   "execution_count": 7,
   "metadata": {
    "collapsed": true
   },
   "outputs": [
    {
     "data": {
      "text/plain": [
       "array([[145500,      7],\n",
       "       [ 50000,      3],\n",
       "       [ 70000,      8],\n",
       "       [120000,      7],\n",
       "       [158000,      9],\n",
       "       [ 25000,      4],\n",
       "       [ 60000,      5],\n",
       "       [ 90000,      6],\n",
       "       [120000,      8],\n",
       "       [147000,      5],\n",
       "       [ 30000,      2],\n",
       "       [ 30000,      5],\n",
       "       [ 15000,      3],\n",
       "       [ 80000,      7],\n",
       "       [ 40000,      4],\n",
       "       [107000,      4],\n",
       "       [ 43000,      4],\n",
       "       [108000,      9],\n",
       "       [100000,      3],\n",
       "       [ 25000,      2],\n",
       "       [ 35000,      4],\n",
       "       [ 80000,      7],\n",
       "       [110000,      7],\n",
       "       [100000,      7],\n",
       "       [120000,      8],\n",
       "       [ 70000,      5],\n",
       "       [120000,      6],\n",
       "       [ 40000,      5],\n",
       "       [ 80000,      5],\n",
       "       [ 35500,      3],\n",
       "       [ 50000,      7],\n",
       "       [ 20000,      4],\n",
       "       [110000,      6],\n",
       "       [ 30000,      6],\n",
       "       [ 80000,      8],\n",
       "       [127000,      4],\n",
       "       [ 58000,      8],\n",
       "       [ 60000,      6],\n",
       "       [ 55000,      5],\n",
       "       [ 50000,      4],\n",
       "       [100000,      8],\n",
       "       [ 24000,      2],\n",
       "       [ 70000,      3],\n",
       "       [110000,      8],\n",
       "       [ 75000,      4],\n",
       "       [ 70000,      6],\n",
       "       [ 60000,      6],\n",
       "       [ 32500,      4],\n",
       "       [ 50000,      7],\n",
       "       [120000,      3],\n",
       "       [120000,      4],\n",
       "       [ 40000,      4],\n",
       "       [105000,      8],\n",
       "       [150000,      7],\n",
       "       [ 84000,      7],\n",
       "       [100000,      3],\n",
       "       [105000,      8],\n",
       "       [ 50000,      5],\n",
       "       [ 82000,      8],\n",
       "       [ 60000,      5],\n",
       "       [ 60000,      4],\n",
       "       [102996,      8],\n",
       "       [ 40000,      8],\n",
       "       [ 50000,      6],\n",
       "       [ 56000,      8],\n",
       "       [ 35000,      3],\n",
       "       [ 81000,      7],\n",
       "       [ 80000,      8],\n",
       "       [ 50000,      6],\n",
       "       [110000,      6],\n",
       "       [ 76000,      5],\n",
       "       [ 35000,      2],\n",
       "       [ 70000,      7],\n",
       "       [ 30000,      2],\n",
       "       [120000,      7],\n",
       "       [ 25000,      3],\n",
       "       [ 70000,      7],\n",
       "       [ 25000,      2],\n",
       "       [ 34000,      4],\n",
       "       [ 63000,      8],\n",
       "       [ 61000,      4],\n",
       "       [ 45000,      3],\n",
       "       [127000,      4],\n",
       "       [ 60000,      7],\n",
       "       [ 10000,      2],\n",
       "       [ 15000,      3],\n",
       "       [ 75000,      5],\n",
       "       [ 80000,      7],\n",
       "       [120000,      5],\n",
       "       [ 35000,      4],\n",
       "       [ 60000,      4],\n",
       "       [100000,      6],\n",
       "       [ 40000,      4],\n",
       "       [110000,      6],\n",
       "       [100000,      8],\n",
       "       [120000,      7],\n",
       "       [ 60000,      7],\n",
       "       [ 20000,      4],\n",
       "       [110000,      7],\n",
       "       [ 50000,      3],\n",
       "       [ 60000,      6],\n",
       "       [127000,      4],\n",
       "       [ 70000,      6],\n",
       "       [116000,      8],\n",
       "       [ 65000,      4],\n",
       "       [ 70000,      4],\n",
       "       [ 70000,      4],\n",
       "       [ 70000,      8],\n",
       "       [ 90000,      7],\n",
       "       [ 70000,      8],\n",
       "       [135000,      6],\n",
       "       [ 25000,      3],\n",
       "       [100000,      8],\n",
       "       [ 40000,      8],\n",
       "       [ 88000,      7],\n",
       "       [120000,      7],\n",
       "       [ 80000,      7],\n",
       "       [ 70000,      7],\n",
       "       [147000,      5],\n",
       "       [105000,      8],\n",
       "       [ 70195,      7],\n",
       "       [150000,      8],\n",
       "       [ 59000,      3],\n",
       "       [ 27000,      2],\n",
       "       [ 35700,      2],\n",
       "       [ 30000,      4],\n",
       "       [ 68000,      9],\n",
       "       [ 50000,      6],\n",
       "       [ 50000,      6]], dtype=int64)"
      ]
     },
     "execution_count": 7,
     "metadata": {},
     "output_type": "execute_result"
    }
   ],
   "source": [
    "X = df.iloc[:, 1:3].values \n",
    "X"
   ]
  },
  {
   "cell_type": "code",
   "execution_count": 8,
   "metadata": {
    "collapsed": true
   },
   "outputs": [
    {
     "data": {
      "text/plain": [
       "array([450000, 700000, 550000, 500000, 360000, 650000, 550000, 480000,\n",
       "       530000, 600000, 700000, 561000, 755000, 420000, 680000, 620000,\n",
       "       625000, 415000, 811000, 757000, 711000, 450000, 509999, 511000,\n",
       "       450000, 649000, 500000, 525000, 600000, 650000, 650000, 650000,\n",
       "       470000, 480000, 480000, 605000, 520000, 600000, 660000, 700000,\n",
       "       550000, 750000, 680000, 525000, 650000, 520000, 610000, 651000,\n",
       "       490000, 680000, 570000, 635000, 480000, 409999, 500000, 700000,\n",
       "       420000, 650000, 470000, 550000, 699000, 415000, 530000, 625000,\n",
       "       550000, 800000, 438999, 480000, 550000, 550000, 550000, 694000,\n",
       "       450000, 700000, 580000, 750000, 600000, 675000, 625000, 430000,\n",
       "       620000, 700000, 605000, 500000, 754000, 725000, 631000, 530000,\n",
       "       675000, 745000, 669000, 600000, 740000, 440000, 409999, 465000,\n",
       "       470000, 755000, 434999, 700000, 615000, 605000, 520000, 525000,\n",
       "       700000, 625000, 650000, 395000, 465000, 360000, 600000, 720000,\n",
       "       390000, 530000, 580000, 420000, 445000, 459999, 600000, 420000,\n",
       "       434999, 470000, 765000, 770000, 800000, 750000, 370000, 600000,\n",
       "       625000], dtype=int64)"
      ]
     },
     "execution_count": 8,
     "metadata": {},
     "output_type": "execute_result"
    }
   ],
   "source": [
    "y=df.iloc[:,0].values\n",
    "y"
   ]
  },
  {
   "cell_type": "code",
   "execution_count": 22,
   "metadata": {
    "scrolled": true
   },
   "outputs": [],
   "source": [
    "# Splitting the dataset into the Training set and Test set\n",
    "from sklearn.model_selection import train_test_split \n",
    "X_train, X_test, y_train, y_test = \\\n",
    "train_test_split(X, y, test_size=0.20, random_state=6)"
   ]
  },
  {
   "cell_type": "code",
   "execution_count": 23,
   "metadata": {},
   "outputs": [
    {
     "data": {
      "text/plain": [
       "array([[100000,      6],\n",
       "       [110000,      6],\n",
       "       [100000,      8],\n",
       "       [ 50000,      4],\n",
       "       [108000,      9]], dtype=int64)"
      ]
     },
     "execution_count": 23,
     "metadata": {},
     "output_type": "execute_result"
    }
   ],
   "source": [
    "X_train[:5]"
   ]
  },
  {
   "cell_type": "code",
   "execution_count": 24,
   "metadata": {},
   "outputs": [
    {
     "data": {
      "text/plain": [
       "array([[100000,      8],\n",
       "       [ 70000,      8],\n",
       "       [120000,      7],\n",
       "       [ 70000,      4],\n",
       "       [127000,      4]], dtype=int64)"
      ]
     },
     "execution_count": 24,
     "metadata": {},
     "output_type": "execute_result"
    }
   ],
   "source": [
    "X_test[:5]"
   ]
  },
  {
   "cell_type": "code",
   "execution_count": 28,
   "metadata": {},
   "outputs": [
    {
     "data": {
      "text/plain": [
       "(26, 2)"
      ]
     },
     "execution_count": 28,
     "metadata": {},
     "output_type": "execute_result"
    }
   ],
   "source": [
    "X_test.shape"
   ]
  },
  {
   "cell_type": "code",
   "execution_count": 25,
   "metadata": {},
   "outputs": [
    {
     "data": {
      "text/plain": [
       "LinearRegression()"
      ]
     },
     "execution_count": 25,
     "metadata": {},
     "output_type": "execute_result"
    }
   ],
   "source": [
    "# Fitting Simple Linear Regression to the Training set\n",
    "from sklearn.linear_model import LinearRegression\n",
    "model = LinearRegression()\n",
    "model.fit(X_train, y_train)# x years --> y Rs salary"
   ]
  },
  {
   "cell_type": "code",
   "execution_count": 32,
   "metadata": {},
   "outputs": [
    {
     "data": {
      "text/plain": [
       "array([[100000,      8],\n",
       "       [ 70000,      8],\n",
       "       [120000,      7],\n",
       "       [ 70000,      4],\n",
       "       [127000,      4]], dtype=int64)"
      ]
     },
     "execution_count": 32,
     "metadata": {},
     "output_type": "execute_result"
    }
   ],
   "source": [
    "X_test[:5]"
   ]
  },
  {
   "cell_type": "code",
   "execution_count": 30,
   "metadata": {},
   "outputs": [],
   "source": [
    "y_pred=model.predict(X_test)"
   ]
  },
  {
   "cell_type": "code",
   "execution_count": 33,
   "metadata": {},
   "outputs": [
    {
     "data": {
      "text/plain": [
       "array([456078.00996115, 467328.09356251, 494956.52000463, 652842.35667341,\n",
       "       631467.19783082, 662967.43191463, 471828.12700305, 567585.2808522 ,\n",
       "       478578.17716387, 575085.33658644, 456078.00996115, 560085.22511796,\n",
       "       712346.01998605, 509956.63147311, 448577.95422691, 454202.99602759,\n",
       "       454202.99602759, 483706.43640327, 631467.19783082, 617713.87449704,\n",
       "       652842.35667341, 665967.45420833, 768099.65543158, 450077.96537376,\n",
       "       469953.11306949, 387949.28255413])"
      ]
     },
     "execution_count": 33,
     "metadata": {},
     "output_type": "execute_result"
    }
   ],
   "source": [
    "y_pred"
   ]
  },
  {
   "cell_type": "code",
   "execution_count": 34,
   "metadata": {},
   "outputs": [
    {
     "data": {
      "text/plain": [
       "array([409999, 550000, 465000, 650000, 605000, 625000, 520000, 600000,\n",
       "       530000, 480000, 390000, 520000, 800000, 420000, 530000, 420000,\n",
       "       420000, 409999, 605000, 525000, 625000, 745000, 754000, 525000,\n",
       "       430000, 360000], dtype=int64)"
      ]
     },
     "execution_count": 34,
     "metadata": {},
     "output_type": "execute_result"
    }
   ],
   "source": [
    "y_test"
   ]
  },
  {
   "cell_type": "code",
   "execution_count": 35,
   "metadata": {},
   "outputs": [],
   "source": [
    "from sklearn.metrics import mean_absolute_error, \\\n",
    "mean_squared_error,r2_score"
   ]
  },
  {
   "cell_type": "code",
   "execution_count": 36,
   "metadata": {},
   "outputs": [
    {
     "name": "stdout",
     "output_type": "stream",
     "text": [
      "51667.982910059574\n"
     ]
    }
   ],
   "source": [
    "print(mean_absolute_error(y_test,y_pred))"
   ]
  },
  {
   "cell_type": "code",
   "execution_count": 37,
   "metadata": {},
   "outputs": [
    {
     "name": "stdout",
     "output_type": "stream",
     "text": [
      "3373842641.932638\n"
     ]
    }
   ],
   "source": [
    "print(mean_squared_error(y_test,y_pred))"
   ]
  },
  {
   "cell_type": "code",
   "execution_count": 39,
   "metadata": {},
   "outputs": [
    {
     "name": "stdout",
     "output_type": "stream",
     "text": [
      "58084.788386742344\n"
     ]
    }
   ],
   "source": [
    "import math\n",
    "print(math.sqrt(mean_squared_error(y_test,y_pred)))"
   ]
  },
  {
   "cell_type": "code",
   "execution_count": 40,
   "metadata": {},
   "outputs": [
    {
     "name": "stdout",
     "output_type": "stream",
     "text": [
      "0.7480658682311465\n"
     ]
    }
   ],
   "source": [
    "print(r2_score(y_test,y_pred))"
   ]
  },
  {
   "cell_type": "code",
   "execution_count": null,
   "metadata": {},
   "outputs": [],
   "source": []
  },
  {
   "cell_type": "code",
   "execution_count": null,
   "metadata": {},
   "outputs": [],
   "source": []
  },
  {
   "cell_type": "code",
   "execution_count": null,
   "metadata": {},
   "outputs": [],
   "source": []
  },
  {
   "cell_type": "code",
   "execution_count": 58,
   "metadata": {},
   "outputs": [],
   "source": [
    "from sklearn.preprocessing import MinMaxScaler"
   ]
  },
  {
   "cell_type": "code",
   "execution_count": 59,
   "metadata": {},
   "outputs": [],
   "source": [
    "s=MinMaxScaler()"
   ]
  },
  {
   "cell_type": "code",
   "execution_count": 60,
   "metadata": {},
   "outputs": [],
   "source": [
    "X=s.fit_transform(X)"
   ]
  },
  {
   "cell_type": "code",
   "execution_count": 62,
   "metadata": {},
   "outputs": [
    {
     "data": {
      "text/plain": [
       "array([[0.19955654],\n",
       "       [0.75388027],\n",
       "       [0.42128603],\n",
       "       [0.31042129],\n",
       "       [0.        ],\n",
       "       [0.64301552],\n",
       "       [0.42128603],\n",
       "       [0.26607539],\n",
       "       [0.37694013],\n",
       "       [0.53215078],\n",
       "       [0.75388027],\n",
       "       [0.44567627],\n",
       "       [0.87583149],\n",
       "       [0.13303769],\n",
       "       [0.70953437],\n",
       "       [0.57649667],\n",
       "       [0.58758315],\n",
       "       [0.12195122],\n",
       "       [1.        ],\n",
       "       [0.88026608],\n",
       "       [0.77827051],\n",
       "       [0.19955654],\n",
       "       [0.33259202],\n",
       "       [0.33481153],\n",
       "       [0.19955654],\n",
       "       [0.64079823],\n",
       "       [0.31042129],\n",
       "       [0.36585366],\n",
       "       [0.53215078],\n",
       "       [0.64301552],\n",
       "       [0.64301552],\n",
       "       [0.64301552],\n",
       "       [0.24390244],\n",
       "       [0.26607539],\n",
       "       [0.26607539],\n",
       "       [0.54323725],\n",
       "       [0.35476718],\n",
       "       [0.53215078],\n",
       "       [0.66518847],\n",
       "       [0.75388027],\n",
       "       [0.42128603],\n",
       "       [0.86474501],\n",
       "       [0.70953437],\n",
       "       [0.36585366],\n",
       "       [0.64301552],\n",
       "       [0.35476718],\n",
       "       [0.55432373],\n",
       "       [0.64523282],\n",
       "       [0.28824834],\n",
       "       [0.70953437],\n",
       "       [0.46563193],\n",
       "       [0.6097561 ],\n",
       "       [0.26607539],\n",
       "       [0.11086253],\n",
       "       [0.31042129],\n",
       "       [0.75388027],\n",
       "       [0.13303769],\n",
       "       [0.64301552],\n",
       "       [0.24390244],\n",
       "       [0.42128603],\n",
       "       [0.75166297],\n",
       "       [0.12195122],\n",
       "       [0.37694013],\n",
       "       [0.58758315],\n",
       "       [0.42128603],\n",
       "       [0.97560976],\n",
       "       [0.17516408],\n",
       "       [0.26607539],\n",
       "       [0.42128603],\n",
       "       [0.42128603],\n",
       "       [0.42128603],\n",
       "       [0.7405765 ],\n",
       "       [0.19955654],\n",
       "       [0.75388027],\n",
       "       [0.48780488],\n",
       "       [0.86474501],\n",
       "       [0.53215078],\n",
       "       [0.69844789],\n",
       "       [0.58758315],\n",
       "       [0.15521064],\n",
       "       [0.57649667],\n",
       "       [0.75388027],\n",
       "       [0.54323725],\n",
       "       [0.31042129],\n",
       "       [0.87361419],\n",
       "       [0.80931264],\n",
       "       [0.60088692],\n",
       "       [0.37694013],\n",
       "       [0.69844789],\n",
       "       [0.85365854],\n",
       "       [0.68514412],\n",
       "       [0.53215078],\n",
       "       [0.84257206],\n",
       "       [0.17738359],\n",
       "       [0.11086253],\n",
       "       [0.23281596],\n",
       "       [0.24390244],\n",
       "       [0.87583149],\n",
       "       [0.1662949 ],\n",
       "       [0.75388027],\n",
       "       [0.5654102 ],\n",
       "       [0.54323725],\n",
       "       [0.35476718],\n",
       "       [0.36585366],\n",
       "       [0.75388027],\n",
       "       [0.58758315],\n",
       "       [0.64301552],\n",
       "       [0.07760532],\n",
       "       [0.23281596],\n",
       "       [0.        ],\n",
       "       [0.53215078],\n",
       "       [0.79822616],\n",
       "       [0.06651885],\n",
       "       [0.37694013],\n",
       "       [0.48780488],\n",
       "       [0.13303769],\n",
       "       [0.18847007],\n",
       "       [0.22172727],\n",
       "       [0.53215078],\n",
       "       [0.13303769],\n",
       "       [0.1662949 ],\n",
       "       [0.24390244],\n",
       "       [0.89800443],\n",
       "       [0.90909091],\n",
       "       [0.97560976],\n",
       "       [0.86474501],\n",
       "       [0.02217295],\n",
       "       [0.53215078],\n",
       "       [0.58758315]])"
      ]
     },
     "execution_count": 62,
     "metadata": {},
     "output_type": "execute_result"
    }
   ],
   "source": [
    "y=y.reshape(-1,1)\n",
    "y=s.fit_transform(y)\n",
    "y"
   ]
  },
  {
   "cell_type": "code",
   "execution_count": null,
   "metadata": {},
   "outputs": [],
   "source": []
  },
  {
   "cell_type": "code",
   "execution_count": null,
   "metadata": {},
   "outputs": [],
   "source": [
    "# Fitting Simple Linear Regression to the Training set\n",
    "from sklearn.linear_model import LinearRegression\n",
    "model = LinearRegression()\n",
    "model.fit(X_train, y_train)# x years --> y Rs salary\n",
    "LinearRegression()\n"
   ]
  },
  {
   "cell_type": "code",
   "execution_count": 64,
   "metadata": {},
   "outputs": [
    {
     "data": {
      "text/plain": [
       "LinearRegression()"
      ]
     },
     "execution_count": 64,
     "metadata": {},
     "output_type": "execute_result"
    }
   ],
   "source": [
    "# Fitting Simple Linear Regression to the Training set\n",
    "from sklearn.linear_model import LinearRegression\n",
    "model = LinearRegression()\n",
    "model.fit(X_train, y_train)# x years --> y Rs salary"
   ]
  },
  {
   "cell_type": "code",
   "execution_count": 65,
   "metadata": {
    "collapsed": true
   },
   "outputs": [
    {
     "data": {
      "text/plain": [
       "array([[0.65142905],\n",
       "       [0.39195594],\n",
       "       [0.21280443],\n",
       "       [0.34827823],\n",
       "       [0.90516489],\n",
       "       [0.77542834],\n",
       "       [0.89369038],\n",
       "       [0.24722796],\n",
       "       [0.59627683],\n",
       "       [0.46080302],\n",
       "       [0.1898554 ],\n",
       "       [0.60897335],\n",
       "       [0.1898554 ],\n",
       "       [0.33680372],\n",
       "       [0.4493285 ],\n",
       "       [0.33565627],\n",
       "       [0.68585258],\n",
       "       [0.33680372],\n",
       "       [0.10257454],\n",
       "       [0.42637948],\n",
       "       [0.33680372],\n",
       "       [0.34827823],\n",
       "       [0.40343045],\n",
       "       [0.70880161],\n",
       "       [0.67437807],\n",
       "       [0.20706717]])"
      ]
     },
     "execution_count": 65,
     "metadata": {},
     "output_type": "execute_result"
    }
   ],
   "source": [
    "# Predicting the Test set results\n",
    "y_pred = model.predict(X_test)\n",
    "y_pred#y_hat"
   ]
  },
  {
   "cell_type": "code",
   "execution_count": 66,
   "metadata": {},
   "outputs": [
    {
     "name": "stdout",
     "output_type": "stream",
     "text": [
      "MAE test score: 0.09375293507340846\n",
      "MSE test score: 0.012670160700910083\n",
      "r2 test score: 0.7636188296797958\n"
     ]
    }
   ],
   "source": [
    "from sklearn.metrics import mean_absolute_error, mean_squared_error,r2_score\n",
    "print(\"MAE test score:\", mean_absolute_error(y_test, y_pred))\n",
    "print(\"MSE test score:\", mean_squared_error(y_test, y_pred))\n",
    "\n",
    "print(\"r2 test score:\", r2_score(y_test, y_pred))\n",
    "#adjusted r2 square"
   ]
  },
  {
   "cell_type": "code",
   "execution_count": 67,
   "metadata": {
    "collapsed": true
   },
   "outputs": [
    {
     "ename": "ValueError",
     "evalue": "non-broadcastable output operand with shape (1,1) doesn't match the broadcast shape (1,2)",
     "output_type": "error",
     "traceback": [
      "\u001b[1;31m---------------------------------------------------------------------------\u001b[0m",
      "\u001b[1;31mValueError\u001b[0m                                Traceback (most recent call last)",
      "\u001b[1;32m<ipython-input-67-11ad538ab030>\u001b[0m in \u001b[0;36m<module>\u001b[1;34m\u001b[0m\n\u001b[0;32m      4\u001b[0m \u001b[0mynew\u001b[0m\u001b[1;33m=\u001b[0m \u001b[0mmodel\u001b[0m\u001b[1;33m.\u001b[0m\u001b[0mpredict\u001b[0m\u001b[1;33m(\u001b[0m\u001b[0mXnew\u001b[0m\u001b[1;33m)\u001b[0m\u001b[1;33m\u001b[0m\u001b[1;33m\u001b[0m\u001b[0m\n\u001b[0;32m      5\u001b[0m \u001b[1;31m#invert normalize\u001b[0m\u001b[1;33m\u001b[0m\u001b[1;33m\u001b[0m\u001b[1;33m\u001b[0m\u001b[0m\n\u001b[1;32m----> 6\u001b[1;33m \u001b[0mynew\u001b[0m \u001b[1;33m=\u001b[0m \u001b[0ms\u001b[0m\u001b[1;33m.\u001b[0m\u001b[0minverse_transform\u001b[0m\u001b[1;33m(\u001b[0m\u001b[0mynew\u001b[0m\u001b[1;33m)\u001b[0m\u001b[1;33m\u001b[0m\u001b[1;33m\u001b[0m\u001b[0m\n\u001b[0m\u001b[0;32m      7\u001b[0m \u001b[0mXnew\u001b[0m \u001b[1;33m=\u001b[0m \u001b[0ms\u001b[0m\u001b[1;33m.\u001b[0m\u001b[0minverse_transform\u001b[0m\u001b[1;33m(\u001b[0m\u001b[0mXnew\u001b[0m\u001b[1;33m)\u001b[0m\u001b[1;33m\u001b[0m\u001b[1;33m\u001b[0m\u001b[0m\n\u001b[0;32m      8\u001b[0m \u001b[0mprint\u001b[0m\u001b[1;33m(\u001b[0m\u001b[1;34m\"X=\"\u001b[0m\u001b[1;33m,\u001b[0m\u001b[0mXnew\u001b[0m\u001b[1;33m[\u001b[0m\u001b[1;36m0\u001b[0m\u001b[1;33m]\u001b[0m\u001b[1;33m,\u001b[0m\u001b[1;34m\"y=\"\u001b[0m\u001b[1;33m,\u001b[0m \u001b[0mynew\u001b[0m\u001b[1;33m[\u001b[0m\u001b[1;36m0\u001b[0m\u001b[1;33m]\u001b[0m\u001b[1;33m)\u001b[0m\u001b[1;33m\u001b[0m\u001b[1;33m\u001b[0m\u001b[0m\n",
      "\u001b[1;32mC:\\ProgramData\\Anaconda3\\lib\\site-packages\\sklearn\\preprocessing\\_data.py\u001b[0m in \u001b[0;36minverse_transform\u001b[1;34m(self, X)\u001b[0m\n\u001b[0;32m    430\u001b[0m                         force_all_finite=\"allow-nan\")\n\u001b[0;32m    431\u001b[0m \u001b[1;33m\u001b[0m\u001b[0m\n\u001b[1;32m--> 432\u001b[1;33m         \u001b[0mX\u001b[0m \u001b[1;33m-=\u001b[0m \u001b[0mself\u001b[0m\u001b[1;33m.\u001b[0m\u001b[0mmin_\u001b[0m\u001b[1;33m\u001b[0m\u001b[1;33m\u001b[0m\u001b[0m\n\u001b[0m\u001b[0;32m    433\u001b[0m         \u001b[0mX\u001b[0m \u001b[1;33m/=\u001b[0m \u001b[0mself\u001b[0m\u001b[1;33m.\u001b[0m\u001b[0mscale_\u001b[0m\u001b[1;33m\u001b[0m\u001b[1;33m\u001b[0m\u001b[0m\n\u001b[0;32m    434\u001b[0m         \u001b[1;32mreturn\u001b[0m \u001b[0mX\u001b[0m\u001b[1;33m\u001b[0m\u001b[1;33m\u001b[0m\u001b[0m\n",
      "\u001b[1;31mValueError\u001b[0m: non-broadcastable output operand with shape (1,1) doesn't match the broadcast shape (1,2)"
     ]
    }
   ],
   "source": [
    "import numpy as np\n",
    "Xnew = np.array([[8000,2]])\n",
    "Xnew= s.fit_transform(Xnew)\n",
    "ynew= model.predict(Xnew)\n"
   ]
  },
  {
   "cell_type": "code",
   "execution_count": 69,
   "metadata": {},
   "outputs": [
    {
     "data": {
      "text/plain": [
       "array([[0.92237666]])"
      ]
     },
     "execution_count": 69,
     "metadata": {},
     "output_type": "execute_result"
    }
   ],
   "source": [
    "ynew"
   ]
  },
  {
   "cell_type": "code",
   "execution_count": null,
   "metadata": {},
   "outputs": [],
   "source": [
    "#invert normalize\n",
    "ynew = s.inverse_transform(ynew) \n",
    "Xnew = s.inverse_transform(Xnew)\n",
    "print(\"X=\",Xnew[0],\"y=\", ynew[0])"
   ]
  },
  {
   "cell_type": "code",
   "execution_count": null,
   "metadata": {},
   "outputs": [],
   "source": []
  },
  {
   "cell_type": "code",
   "execution_count": 52,
   "metadata": {},
   "outputs": [],
   "source": [
    "a=np.array([[18000,3]])"
   ]
  },
  {
   "cell_type": "code",
   "execution_count": 53,
   "metadata": {},
   "outputs": [
    {
     "data": {
      "text/plain": [
       "array([[18000,     3]])"
      ]
     },
     "execution_count": 53,
     "metadata": {},
     "output_type": "execute_result"
    }
   ],
   "source": [
    "a"
   ]
  },
  {
   "cell_type": "code",
   "execution_count": 54,
   "metadata": {},
   "outputs": [
    {
     "data": {
      "text/plain": [
       "array([[0., 0.]])"
      ]
     },
     "execution_count": 54,
     "metadata": {},
     "output_type": "execute_result"
    }
   ],
   "source": [
    "a= s.fit_transform(a)\n",
    "a"
   ]
  },
  {
   "cell_type": "code",
   "execution_count": null,
   "metadata": {},
   "outputs": [],
   "source": []
  }
 ],
 "metadata": {
  "kernelspec": {
   "display_name": "Python 3",
   "language": "python",
   "name": "python3"
  },
  "language_info": {
   "codemirror_mode": {
    "name": "ipython",
    "version": 3
   },
   "file_extension": ".py",
   "mimetype": "text/x-python",
   "name": "python",
   "nbconvert_exporter": "python",
   "pygments_lexer": "ipython3",
   "version": "3.8.3"
  }
 },
 "nbformat": 4,
 "nbformat_minor": 4
}
